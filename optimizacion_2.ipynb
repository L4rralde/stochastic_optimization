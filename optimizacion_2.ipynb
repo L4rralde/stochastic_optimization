{
 "cells": [
  {
   "cell_type": "markdown",
   "id": "64efd1d7-9c26-4f30-b6aa-dd04688fd1f7",
   "metadata": {
    "tags": []
   },
   "source": [
    "## Optimización estocástica parte 2\n",
    "### Algoritmos con perturbación"
   ]
  },
  {
   "cell_type": "markdown",
   "id": "0e312de0-14bb-4874-a327-f1710b2e41fa",
   "metadata": {},
   "source": [
    "Problema de las 8 reinas:\n",
    "- El problema de las ocho reinas es un pasatiempo que consiste en poner ocho reinas en el tablero de ajedrez sin que se amenacen"
   ]
  },
  {
   "cell_type": "code",
   "execution_count": 1,
   "id": "161a5642-a190-4498-99b5-d943ffa515a5",
   "metadata": {
    "tags": []
   },
   "outputs": [],
   "source": [
    "from copy import copy\n",
    "from pprint import pprint\n",
    "\n",
    "import random\n",
    "import numpy as np"
   ]
  },
  {
   "cell_type": "code",
   "execution_count": 2,
   "id": "093d0963-644e-49f0-a17b-6b15a3cff2e9",
   "metadata": {
    "tags": []
   },
   "outputs": [],
   "source": [
    "def draw(points):\n",
    "    \"\"\"\n",
    "    Dibuja el rango de movimientos de las reinas y \n",
    "    calcula el número de reinas que son amenazadas por una anterior\n",
    "    \"\"\"\n",
    "    board = [\n",
    "        [0 for _ in range(8)]\n",
    "        for _ in range(8)\n",
    "    ]\n",
    "    overlap = 0\n",
    "    for point in points:\n",
    "        x, y = point\n",
    "        if board[x][y] > 0:\n",
    "            overlap += 1\n",
    "        for i in range(8):\n",
    "            board[x][i] += 1\n",
    "            board[i][y] += 1\n",
    "        board[x][y] -= 1\n",
    "        for i,j in [[1,1], [-1, -1], [1, -1], [-1, 1]]:\n",
    "            cnt = 1\n",
    "            while 0 <= x+i*cnt < 8 and 0 <= y+j*cnt < 8:\n",
    "                board[x+i*cnt][y+j*cnt] += 1\n",
    "                cnt += 1\n",
    "    return board, overlap"
   ]
  },
  {
   "cell_type": "code",
   "execution_count": 3,
   "id": "60ea99d3-6988-403e-b540-542cc914f50d",
   "metadata": {
    "tags": []
   },
   "outputs": [],
   "source": [
    "def draw_queens(points):\n",
    "    \"\"\"\n",
    "    Dibuja el tablero con las reinas\n",
    "    \"\"\"\n",
    "    board = [\n",
    "        [0 for _ in range(8)]\n",
    "        for _ in range(8)\n",
    "    ]\n",
    "    for x,y in points:\n",
    "        board[x][y] = 1\n",
    "    return board"
   ]
  },
  {
   "cell_type": "code",
   "execution_count": 4,
   "id": "8c40af72-d90f-43f5-9c5f-f261d03cd228",
   "metadata": {
    "tags": []
   },
   "outputs": [],
   "source": [
    "def evaluate(points):\n",
    "    \"\"\"\n",
    "    Calcula la cantidad de reinas que son amenazadas por una anterior\n",
    "    \"\"\"\n",
    "    board, value = draw(points)\n",
    "    return value"
   ]
  },
  {
   "cell_type": "code",
   "execution_count": 5,
   "id": "d67bd592-4e6c-43a5-a385-eadc15c1430b",
   "metadata": {
    "tags": []
   },
   "outputs": [],
   "source": [
    "def greedy_guess(xs: list=list(range(8)), ys: list=list(range(8))):\n",
    "    \"\"\"\n",
    "    Estima una configuración cercana a una solución tomando en cuenta que\n",
    "    las reinas no pueden estar en los mismos renglones ni columnas.\n",
    "    \"\"\"\n",
    "    xs_cp = copy(xs)\n",
    "    ys_cp = copy(ys)\n",
    "    points = []\n",
    "    for _ in range(len(xs)):\n",
    "        x = random.sample(xs_cp, 1)[-1]\n",
    "        y = random.sample(ys_cp, 1)[-1]\n",
    "        xs_cp.remove(x)\n",
    "        ys_cp.remove(y)\n",
    "        points.append([x,y])\n",
    "    return points"
   ]
  },
  {
   "cell_type": "code",
   "execution_count": 6,
   "id": "f5501bb5-c052-4686-b4c8-9fa997c92e04",
   "metadata": {
    "tags": []
   },
   "outputs": [],
   "source": [
    "def perturb(points: list, n: int=2):\n",
    "    \"\"\"\n",
    "    Mueve hasta n reinas.\n",
    "    \"\"\"\n",
    "    to_drop = random.sample(list(range(len(points))), n)\n",
    "    dropped = [points[i] for i in to_drop]\n",
    "    not_dropped = [points[i] for i in range(len(points)) if i not in to_drop]\n",
    "    free_xs = [x for x, y in dropped]\n",
    "    free_ys = [y for x, y in dropped]\n",
    "    new_sub = greedy_guess(free_xs, free_ys)\n",
    "    return not_dropped + new_sub"
   ]
  },
  {
   "cell_type": "code",
   "execution_count": 7,
   "id": "d93c563a-84f5-4a2b-b815-45b7da076a85",
   "metadata": {
    "tags": []
   },
   "outputs": [],
   "source": [
    "def algo(n_iter: int=20000) -> list:\n",
    "    #Estimación inicial\n",
    "    init = greedy_guess()\n",
    "    best = init\n",
    "    solutions = []\n",
    "    num_solutions_per_epoch = []\n",
    "    for i in range(n_iter):\n",
    "        #Perturbación inicial. Mueve 5 reinas.\n",
    "        guess = perturb(best, 5)\n",
    "        best_value = evaluate(guess)\n",
    "        #Búsqueda local.\n",
    "        for _ in range(100):\n",
    "            min_perturbed = perturb(guess) #Mueve dos reinas por cada iteración\n",
    "            val = evaluate(min_perturbed)\n",
    "            if val < best_value: #Toma la mejor solución local\n",
    "                best_value = evaluate(min_perturbed)\n",
    "                guess = min_perturbed\n",
    "                if best_value == 0: #Si ninguna reina es amenazada, guarda la solución\n",
    "                    solutions.append(min_perturbed)\n",
    "        filtered = []\n",
    "        for solution in solutions:\n",
    "            list_sort = sorted(solution, key=lambda x: (x[0], x[1]))\n",
    "            if not list_sort in filtered:\n",
    "                filtered.append(list_sort)\n",
    "        num_solutions_per_epoch.append(len(filtered))\n",
    "    return solutions, num_solutions_per_epoch"
   ]
  },
  {
   "cell_type": "code",
   "execution_count": 13,
   "id": "64076281-5aae-4a5a-a4ac-107d3fb3305e",
   "metadata": {
    "tags": []
   },
   "outputs": [],
   "source": [
    "solutions = algo()"
   ]
  },
  {
   "cell_type": "markdown",
   "id": "37e46fe2-27f4-44e8-aea7-1d751a45dbf7",
   "metadata": {},
   "source": [
    "Las soluciones están repetidas. El siguiente código debería eliminar soluciones repetidas"
   ]
  },
  {
   "cell_type": "code",
   "execution_count": 14,
   "id": "f2459bd4-f93f-4446-8287-393a3111b40f",
   "metadata": {
    "tags": []
   },
   "outputs": [],
   "source": [
    "vectors, evol = solutions\n",
    "for solution in vectors:\n",
    "    list_sort = sorted(solution, key=lambda x: (x[0], x[1]))\n",
    "    if not list_sort in filtered:\n",
    "        filtered.append(list_sort)"
   ]
  },
  {
   "cell_type": "code",
   "execution_count": null,
   "id": "a7fe5c1a-c270-4d1d-8c7a-910a0ea0f4ed",
   "metadata": {
    "tags": []
   },
   "outputs": [],
   "source": [
    "for solution in filtered:\n",
    "    pprint(draw_queens(solution))"
   ]
  },
  {
   "cell_type": "code",
   "execution_count": 16,
   "id": "8589a6b3-7b74-4de5-8ccd-092076b45541",
   "metadata": {
    "tags": []
   },
   "outputs": [],
   "source": [
    "_, foo = solutions"
   ]
  },
  {
   "cell_type": "code",
   "execution_count": 17,
   "id": "18aee5c0-5164-4418-9da6-1975d7758cc9",
   "metadata": {
    "tags": []
   },
   "outputs": [
    {
     "data": {
      "text/plain": [
       "[<matplotlib.lines.Line2D at 0x127fcfe20>]"
      ]
     },
     "execution_count": 17,
     "metadata": {},
     "output_type": "execute_result"
    },
    {
     "data": {
      "image/png": "[encoded data removed]",
      "text/plain": [
       "<Figure size 640x480 with 1 Axes>"
      ]
     },
     "metadata": {},
     "output_type": "display_data"
    }
   ],
   "source": [
    "import matplotlib.pyplot as plt\n",
    "plt.plot(foo)"
   ]
  }
 ],
 "metadata": {
  "kernelspec": {
   "display_name": "Python 3 (ipykernel)",
   "language": "python",
   "name": "python3"
  },
  "language_info": {
   "codemirror_mode": {
    "name": "ipython",
    "version": 3
   },
   "file_extension": ".py",
   "mimetype": "text/x-python",
   "name": "python",
   "nbconvert_exporter": "python",
   "pygments_lexer": "ipython3",
   "version": "3.10.10"
  }
 },
 "nbformat": 4,
 "nbformat_minor": 5
}
